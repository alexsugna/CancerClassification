{
 "cells": [
  {
   "cell_type": "code",
   "execution_count": null,
   "metadata": {
    "collapsed": true
   },
   "outputs": [],
   "source": [
    "import numpy as np\n",
    "from sklearn.preprocessing import StandardScaler\n",
    "from organize import get_data\n",
    "from sklearn.pipeline import Pipeline\n",
    "from sklearn.model_selection import train_test_split\n",
    "from sklearn.ensemble import RandomForestClassifier\n",
    "from sklearn.tree import DecisionTreeClassifier\n",
    "from pprint import pprint\n",
    "from sklearn.model_selection import RandomizedSearchCV, GridSearchCV\n",
    "from sklearn.neighbors import KNeighborsClassifier\n",
    "from sklearn.linear_model import LogisticRegression"
   ]
  },
  {
   "cell_type": "code",
   "execution_count": null,
   "metadata": {
    "collapsed": true
   },
   "outputs": [],
   "source": [
    "def random_hyperparameter_search(trained_model, hyperparameters, iterations,\n",
    "                                 cross_validation_folds, X_train, y_train,\n",
    "                                 X_test, y_test):\n",
    "    print(\"Performing Random Hyperparameter Search with hyperparameters:\")\n",
    "    pprint(hyperparameters)\n",
    "    random_search = RandomizedSearchCV(estimator=trained_model,\n",
    "                                          param_distributions=hyperparameters,\n",
    "                                          n_iter=iterations,\n",
    "                                          cv=cross_validation_folds)\n",
    "    random_search.fit(X_train, y_train)\n",
    "    print(\"Best hyperparameters: \", random_search.best_params_)\n",
    "    print(\"Best hyperparameter accuracy: \", random_search.score(X_test, y_test))"
   ]
  },
  {
   "cell_type": "code",
   "execution_count": null,
   "metadata": {
    "collapsed": true
   },
   "outputs": [],
   "source": [
    "def grid_hyperparameter_search(trained_model, hyperparameters,\n",
    "                               cross_validation_folds, X_train, y_train,\n",
    "                               X_test, y_test):\n",
    "    print(\"Performing Hyperparameter Grid Search with hyperparameters:\")\n",
    "    pprint(hyperparameters)\n",
    "    grid_search = GridSearchCV(estimator=trained_model,\n",
    "                               param_grid=hyperparameters,\n",
    "                               cv=cross_validation_folds,\n",
    "                               n_jobs=-1)\n",
    "    grid_search.fit(X_train, y_train)\n",
    "    print(\"Best hyperparameters: \", grid_search.best_params_)\n",
    "    print(\"Best hyperparameter accuracy: \", grid_search.score(X_test, y_test))"
   ]
  },
  {
   "cell_type": "code",
   "execution_count": null,
   "metadata": {
    "collapsed": true
   },
   "outputs": [],
   "source": [
    "X, y = get_data()\n",
    "X_train, X_test, y_train, y_test = \\\n",
    "    train_test_split(X, y, test_size=0.2, random_state=20)"
   ]
  },
  {
   "cell_type": "markdown",
   "metadata": {},
   "source": [
    "### Decision Tree "
   ]
  },
  {
   "cell_type": "code",
   "execution_count": null,
   "metadata": {
    "collapsed": true
   },
   "outputs": [],
   "source": [
    "class DecisionTree:\n",
    "    def __init__(self, X, y):\n",
    "        self.X = X\n",
    "        self.y = y\n",
    "        self.dec_tree_steps = [('scalar', StandardScaler()),\n",
    "                               ('decision_tree', DecisionTreeClassifier())]\n",
    "    def train(self):\n",
    "        self.model = Pipeline(self.dec_tree_steps).fit(self.X, self.y)\n",
    "        return self.model\n",
    "    \n",
    "    def score(self, X_test, y_test):\n",
    "        return self.model.score(X_test, y_test)"
   ]
  },
  {
   "cell_type": "code",
   "execution_count": null,
   "metadata": {},
   "outputs": [],
   "source": [
    "DecisionTreeClassifier().get_params().keys()"
   ]
  },
  {
   "cell_type": "code",
   "execution_count": null,
   "metadata": {},
   "outputs": [],
   "source": [
    "DecisionTreeClassifier().get_params()"
   ]
  },
  {
   "cell_type": "code",
   "execution_count": null,
   "metadata": {},
   "outputs": [],
   "source": [
    "#random hyperparameter search for decision tree\n",
    "\n",
    "dec_tree_model = DecisionTree(X_train, y_train)\n",
    "dec_tree_trained = dec_tree_model.train()\n",
    "\n",
    "criterion = ['gini', 'entropy']\n",
    "splitter = ['best', 'random']\n",
    "min_samples_split = [2, 3, 4, 5]\n",
    "max_features = ['auto', 'sqrt', 'log2']\n",
    "\n",
    "dec_tree_hyperparameters = {'dec_tree__criterion' : criterion,\n",
    "                                'dec_tree__splitter' : splitter,\n",
    "                                'dec_tree__min_samples_split' : min_samples_split,\n",
    "                                'dec_tree__max_features' : max_features}\n",
    "iterations = 48\n",
    "cross_validation_folds = 5\n",
    "\n",
    "random_hyperparameter_search(dec_tree_trained, dec_tree_hyperparameters, \n",
    "                             iterations, cross_validation_folds, \n",
    "                             X_train, y_train, X_test, y_test)"
   ]
  },
  {
   "cell_type": "code",
   "execution_count": null,
   "metadata": {},
   "outputs": [],
   "source": [
    "#grid hyperparameter search for decision tree\n",
    "\n",
    "dec_tree_model = DecisionTree(X_train, y_train)\n",
    "dec_tree_trained = dec_tree_model.train()\n",
    "\n",
    "criterion = ['gini', 'entropy']\n",
    "splitter = ['best', 'random']\n",
    "min_samples_split = [2, 3, 4, 5]\n",
    "max_features = ['auto', 'sqrt', 'log2']\n",
    "\n",
    "dec_tree_hyperparameters = {'dec_tree__criterion' : criterion,\n",
    "                                'dec_tree__splitter' : splitter,\n",
    "                                'dec_tree__min_samples_split' : min_samples_split,\n",
    "                                'dec_tree__max_features' : max_features}\n",
    "cross_validation_folds = 5\n",
    "\n",
    "grid_hyperparameter_search(dec_tree_trained, dec_tree_hyperparameters, \n",
    "                             cross_validation_folds, \n",
    "                             X_train, y_train, X_test, y_test)"
   ]
  },
  {
   "cell_type": "markdown",
   "metadata": {},
   "source": [
    "### kNN"
   ]
  },
  {
   "cell_type": "code",
   "execution_count": null,
   "metadata": {
    "collapsed": true
   },
   "outputs": [],
   "source": [
    "class KNN:\n",
    "    def __init__(self, X, y):\n",
    "        self.X = X\n",
    "        self.y = y\n",
    "        self.kNN_steps = [('scalar', StandardScaler()),\n",
    "                          ('kNN', KNeighborsClassifier())]\n",
    "    def train(self):\n",
    "        self.model = Pipeline(self.kNN_steps).fit(self.X, self.y)\n",
    "        return self.model\n",
    "    \n",
    "    def score(self, X_test, y_test):\n",
    "        return self.model.score(X_test, y_test)"
   ]
  },
  {
   "cell_type": "code",
   "execution_count": null,
   "metadata": {},
   "outputs": [],
   "source": [
    "KNeighborsClassifier().get_params().keys()"
   ]
  },
  {
   "cell_type": "code",
   "execution_count": null,
   "metadata": {},
   "outputs": [],
   "source": [
    "KNeighborsClassifier().get_params()"
   ]
  },
  {
   "cell_type": "code",
   "execution_count": null,
   "metadata": {
    "scrolled": true
   },
   "outputs": [],
   "source": [
    "#random hyperparameter search for kNN\n",
    "\n",
    "kNN_model = KNN(X_train, y_train)\n",
    "kNN_trained = kNN_model.train()\n",
    "\n",
    "algorithms = ['ball_tree','kd_tree','brute']\n",
    "dist_metric = ['euclidean','manhattan','chebyshev','minkowski']\n",
    "n_neighbors = [1,2,3,5,7,9]\n",
    "weights = ['uniform', 'distance']\n",
    "kNN_hyperparameters = {'kNN__algorithm' : algorithms,\n",
    "                       'kNN__metric' : dist_metric,\n",
    "                       'kNN__n_neighbors' : n_neighbors,\n",
    "                       'kNN__weights' : weights}\n",
    "iterations = 100\n",
    "cross_validation_folds = 5\n",
    "\n",
    "random_hyperparameter_search(kNN_trained, kNN_hyperparameters, iterations,\n",
    "                                 cross_validation_folds, X_train, y_train,\n",
    "                                 X_test, y_test)"
   ]
  },
  {
   "cell_type": "code",
   "execution_count": null,
   "metadata": {
    "collapsed": true
   },
   "outputs": [],
   "source": [
    "#grid hyperparameter search for kNN\n",
    "\n",
    "kNN_model = KNN(X_train, y_train)\n",
    "kNN_trained = kNN_model.train()\n",
    "\n",
    "algorithms = ['ball_tree','kd_tree','brute']\n",
    "dist_metric = ['euclidean','manhattan','chebyshev','minkowski']\n",
    "n_neighbors = [1,2,3,5,7,9]\n",
    "weights = ['uniform', 'distance']\n",
    "kNN_hyperparameters = {'kNN__algorithm' : algorithms,\n",
    "                       'kNN__metric' : dist_metric,\n",
    "                       'kNN__n_neighbors' : n_neighbors,\n",
    "                       'kNN__weights' : weights}\n",
    "\n",
    "cross_validation_folds = 5\n",
    "\n",
    "grid_hyperparameter_search(kNN_trained, kNN_hyperparameters,\n",
    "                                 cross_validation_folds, X_train, y_train,\n",
    "                                 X_test, y_test)"
   ]
  },
  {
   "cell_type": "code",
   "execution_count": null,
   "metadata": {
    "collapsed": true
   },
   "outputs": [],
   "source": []
  },
  {
   "cell_type": "markdown",
   "metadata": {},
   "source": [
    "### Logistic Regression"
   ]
  },
  {
   "cell_type": "code",
   "execution_count": null,
   "metadata": {
    "collapsed": true
   },
   "outputs": [],
   "source": [
    "class LogisticRegressionClassifier:\n",
    "    def __init__(self, X, y):\n",
    "        self.X = X\n",
    "        self.y = y\n",
    "        self.log_reg_steps = [('scalar', StandardScaler()),\n",
    "                              ('log_reg', LogisticRegression())]\n",
    "    def train(self):\n",
    "        self.model = Pipeline(self.log_reg_steps).fit(self.X, self.y)\n",
    "        return self.model\n",
    "\n",
    "    def score(self, X_test, y_test):\n",
    "        return self.model.score(X_test, y_test)"
   ]
  },
  {
   "cell_type": "code",
   "execution_count": null,
   "metadata": {},
   "outputs": [],
   "source": [
    "LogisticRegression().get_params().keys()"
   ]
  },
  {
   "cell_type": "code",
   "execution_count": null,
   "metadata": {},
   "outputs": [],
   "source": [
    "LogisticRegression().get_params()"
   ]
  },
  {
   "cell_type": "code",
   "execution_count": null,
   "metadata": {},
   "outputs": [],
   "source": [
    "#random hyperparameter search for logistic regression\n",
    "\n",
    "log_reg_model = LogisticRegressionClassifier(X_train, y_train)\n",
    "log_reg_trained = log_reg_model.train()\n",
    "\n",
    "penalty = ['l1', 'l2']\n",
    "log_reg_hyperparameters = {'log_reg__penalty' : penalty}\n",
    "iterations = 100\n",
    "cross_validation_folds = 5\n",
    "\n",
    "random_hyperparameter_search(log_reg_trained, log_reg_hyperparameters, \n",
    "                             iterations, cross_validation_folds, \n",
    "                             X_train, y_train, X_test, y_test)"
   ]
  },
  {
   "cell_type": "code",
   "execution_count": null,
   "metadata": {},
   "outputs": [],
   "source": [
    "#grid hyperparameter search for logistic regression\n",
    "\n",
    "log_reg_model = LogisticRegressionClassifier(X_train, y_train)\n",
    "log_reg_trained = log_reg_model.train()\n",
    "\n",
    "penalty = ['l1', 'l2']\n",
    "log_reg_hyperparameters = {'log_reg__penalty' : penalty}\n",
    "cross_validation_folds = 5\n",
    "\n",
    "grid_hyperparameter_search(log_reg_trained, log_reg_hyperparameters, \n",
    "                             cross_validation_folds, \n",
    "                             X_train, y_train, X_test, y_test)"
   ]
  },
  {
   "cell_type": "code",
   "execution_count": null,
   "metadata": {
    "collapsed": true
   },
   "outputs": [],
   "source": []
  }
 ],
 "metadata": {
  "kernelspec": {
   "display_name": "Python 3",
   "language": "python",
   "name": "python3"
  },
  "language_info": {
   "codemirror_mode": {
    "name": "ipython",
    "version": 3
   },
   "file_extension": ".py",
   "mimetype": "text/x-python",
   "name": "python",
   "nbconvert_exporter": "python",
   "pygments_lexer": "ipython3",
   "version": "3.6.3"
  }
 },
 "nbformat": 4,
 "nbformat_minor": 2
}
