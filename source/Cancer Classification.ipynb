{
 "cells": [
  {
   "cell_type": "markdown",
   "metadata": {},
   "source": [
    "## Analysis of Machine Learning Models on Cancer Classification\n",
    "\n",
    "Alex Angus and Gray Selby"
   ]
  },
  {
   "cell_type": "markdown",
   "metadata": {},
   "source": [
    "The goal of this project is to use mircroRNA (miRNA) profiles of cancer patients, provided by The Cancer Genome Atlas (TCGA) repository [1], to accurately predict the type of cancer that a patient has. A single patient’s miRNA profile is comprised of over 1800 individual miRNA expressions. Their correlations to specific cancer types are complicated, and likely codependent. This complexity is where machine learning algorithms, such as the ones we demonstrate in this analysis, are necessary. The TCGA dataset represents six kinds of cancers to classify: breast invasive carcinoma, kidney renal clear cell carcinoma, lung adenocarcinoma, lung squamous cell carcinoma, pancreatic adenocarcinoma, and uveal melanoma. In our analysis, we implement five ordinary classification models with the python **scikit-learn** package: **random forest, decision tree, support vector, multinomial logistic regression**, and **k-nearest neighbors**. We also implement a sixth **stacked ensemble classifier** with the mxlearn package.\n",
    "\n",
    "First we import the necessary packages:"
   ]
  },
  {
   "cell_type": "code",
   "execution_count": 36,
   "metadata": {},
   "outputs": [],
   "source": [
    "from organize import get_data\n",
    "from cancer_classifiers import random_hyperparameter_search, grid_hyperparameter_search\n",
    "from sklearn.model_selection import train_test_split\n",
    "from sklearn.ensemble import RandomForestClassifier\n",
    "from sklearn.tree import DecisionTreeClassifier\n",
    "from sklearn.linear_model import LogisticRegression\n",
    "from sklearn.neighbors import KNeighborsClassifier\n",
    "from sklearn.feature_selection import SelectFromModel\n",
    "from sklearn.svm import SVC\n",
    "from sklearn.preprocessing import StandardScaler\n",
    "import numpy as np\n",
    "import matplotlib.pyplot as plt\n",
    "from sklearn.model_selection import cross_val_score\n",
    "from sklearn.metrics import confusion_matrix,accuracy_score,classification_report\n",
    "import seaborn as sns\n",
    "from mlxtend.classifier import StackingCVClassifier\n",
    "import warnings\n",
    "\n",
    "warnings.simplefilter(action='ignore', category=FutureWarning)"
   ]
  },
  {
   "cell_type": "markdown",
   "metadata": {},
   "source": [
    "## Data Exploration\n",
    "\n",
    "Initially, the TCGA dataset is not aggregated into two discrete sets of example’s feature data and their respective labels, as is needed for training machine learning algorithms. The data is initially categorized by labels (cancer types), with files containing examples in each. In each example file is another file with feature data for that example. To ensure that the data is ready to be used for machine learning, we explore the dataset with the **explore_data()** function in the **organize.py** file. This function iterates through the examples of each cancer type to ensure that they have a uniform feature profile. Also in **organize.py**, we have written a function **combine_data()** that compiles and stores these data files into a 2-dimensional feature array (X) and a 1-dimensional label array (y) that can be accessed with the **get_data()** function.\n",
    "\n",
    "We call the **get_data()** function to retrieve our aggregated dataset, then split into train and test sets. We also call **fit_transform()** to normalize our data."
   ]
  },
  {
   "cell_type": "code",
   "execution_count": 13,
   "metadata": {},
   "outputs": [
    {
     "name": "stdout",
     "output_type": "stream",
     "text": [
      "Number of features:  1881\n"
     ]
    }
   ],
   "source": [
    "\"\"\"\n",
    "Shuffle and Split\n",
    "\"\"\"\n",
    "X, y = get_data()\n",
    "X_train_, X_test_, y_train, y_test = train_test_split(X, y, test_size=0.2)\n",
    "scaler = StandardScaler()\n",
    "X_train = scaler.fit_transform(X_train_)\n",
    "X_test = scaler.fit_transform(X_test_)\n",
    "print(\"Number of features: \", np.shape(X_train)[1])"
   ]
  },
  {
   "cell_type": "markdown",
   "metadata": {},
   "source": [
    "First, we train a **Random Forest Classifier** and a **Decision Tree Classifier**:"
   ]
  },
  {
   "cell_type": "code",
   "execution_count": 3,
   "metadata": {},
   "outputs": [
    {
     "name": "stdout",
     "output_type": "stream",
     "text": [
      "Number of features considered:  1881\n",
      "RF Accuracy:  0.9792746113989638\n"
     ]
    }
   ],
   "source": [
    "\"\"\"\n",
    "Random Forest Model\n",
    "\"\"\"\n",
    "rf_model = RandomForestClassifier(n_estimators=100)\n",
    "rf_model.fit(X_train, y_train)\n",
    "print(\"Number of features considered: \", rf_model.n_features_)\n",
    "rf_accuracy = rf_model.score(X_test, y_test)\n",
    "print(\"RF Accuracy: \", rf_accuracy)"
   ]
  },
  {
   "cell_type": "code",
   "execution_count": 14,
   "metadata": {},
   "outputs": [
    {
     "name": "stdout",
     "output_type": "stream",
     "text": [
      "Number of features considered:  1881\n",
      "Decision Tree Accuracy:  0.846286701208981\n"
     ]
    }
   ],
   "source": [
    "\"\"\"\n",
    "Decision Tree Model\n",
    "\"\"\"\n",
    "dt_model = DecisionTreeClassifier()\n",
    "dt_model.fit(X_train, y_train)\n",
    "print(\"Number of features considered: \", dt_model.n_features_)\n",
    "dt_accuracy = dt_model.score(X_test, y_test)\n",
    "print(\"Decision Tree Accuracy: \", dt_accuracy)"
   ]
  },
  {
   "cell_type": "markdown",
   "metadata": {},
   "source": [
    "## Feature Selection\n",
    "\n",
    "In the feature selection process, we remove features that, when considered, do not improve, or hinder the classification accuracy of our models. In this case, a feature corresponds to the presence of a specific miRNA in a patient’s profile."
   ]
  },
  {
   "cell_type": "code",
   "execution_count": 15,
   "metadata": {},
   "outputs": [
    {
     "data": {
      "image/png": "[encoded data removed]",
      "text/plain": [
       "<Figure size 432x288 with 1 Axes>"
      ]
     },
     "metadata": {
      "needs_background": "light"
     },
     "output_type": "display_data"
    },
    {
     "name": "stdout",
     "output_type": "stream",
     "text": [
      "Sum of Random Forest Feature Importances:  1.0\n"
     ]
    },
    {
     "data": {
      "image/png": "[encoded data removed]",
      "text/plain": [
       "<Figure size 432x288 with 1 Axes>"
      ]
     },
     "metadata": {
      "needs_background": "light"
     },
     "output_type": "display_data"
    },
    {
     "name": "stdout",
     "output_type": "stream",
     "text": [
      "Sum of Decision Tree Feature Importances:  1.0\n"
     ]
    }
   ],
   "source": [
    "\"\"\"\n",
    "Perform Feature Importance Analysis for RF and DT\n",
    "\"\"\"\n",
    "%matplotlib inline\n",
    "rf_feature_importances = rf_model.feature_importances_\n",
    "rf_indices = np.argsort(rf_feature_importances)[::-1]\n",
    "plt.figure()\n",
    "plt.yscale('log')\n",
    "plt.xlabel(\"Feature index\")\n",
    "plt.ylabel(\"Importance to Model (ratio)\")\n",
    "plt.title(\"Feature importance in Random Forest Model\")\n",
    "plt.bar(range(X_train.shape[1]), rf_feature_importances[rf_indices],\n",
    "        align='center')\n",
    "plt.show()\n",
    "print(\"Sum of Random Forest Feature Importances: \", round(sum(rf_feature_importances), 3))\n",
    "\n",
    "dt_feature_importances = dt_model.feature_importances_\n",
    "dt_indices = np.argsort(dt_feature_importances)[::-1]\n",
    "plt.figure()\n",
    "plt.yscale('log')\n",
    "plt.xlabel(\"Feature index\")\n",
    "plt.ylabel(\"Importance to Model (ratio)\")\n",
    "\n",
    "plt.title(\"Feature importance in Decision Tree Model\")\n",
    "plt.bar(range(X_train.shape[1]), dt_feature_importances[dt_indices],\n",
    "        align='center')\n",
    "plt.show()\n",
    "print(\"Sum of Decision Tree Feature Importances: \", round(sum(dt_feature_importances), 3))"
   ]
  },
  {
   "cell_type": "markdown",
   "metadata": {},
   "source": [
    "Note that features with zero importance are not used to make a ’decision’ that decreases the entropy of the dataset. We see that the Decision Tree model has many more features with zero importance than the Random Forest model because the Random Forest is comprised of many trees, while the Decision Tree is a single tree.\n",
    "\n",
    "To perform feature selection on the Random Forest (RF) and Decision Tree (DT) models, we use the attribute **feature_importances_** of the **RandomForestClassifier** and **DecisionTreeClassifier** classes to determine the importance of a feature to the model. "
   ]
  },
  {
   "cell_type": "code",
   "execution_count": 16,
   "metadata": {},
   "outputs": [
    {
     "name": "stdout",
     "output_type": "stream",
     "text": [
      "New number of features in RF model:  1010\n",
      "New number of features in DT model:  70\n"
     ]
    }
   ],
   "source": [
    "\"\"\"\n",
    "Perform Feature Selection\n",
    "\"\"\"\n",
    "rf_threshold = 5e-5\n",
    "dt_threshold = 5e-4\n",
    "rf_feature_selector = SelectFromModel(rf_model, threshold=rf_threshold, prefit=True)\n",
    "dt_feature_selector = SelectFromModel(dt_model, threshold=dt_threshold, prefit=True)\n",
    "X_train_rf_selected = rf_feature_selector.transform(X_train)\n",
    "X_test_rf_selected = rf_feature_selector.transform(X_test)\n",
    "X_train_dt_selected = dt_feature_selector.transform(X_train)\n",
    "X_test_dt_selected = dt_feature_selector.transform(X_test)\n",
    "print(\"New number of features in RF model: \", np.shape(X_train_rf_selected)[1])\n",
    "print(\"New number of features in DT model: \", np.shape(X_train_dt_selected)[1])"
   ]
  },
  {
   "cell_type": "code",
   "execution_count": 17,
   "metadata": {},
   "outputs": [
    {
     "name": "stdout",
     "output_type": "stream",
     "text": [
      "Number of features considered:  1010\n",
      "Selective RF Accuracy:  0.9671848013816926\n",
      "Change in RF Accuracy:  -1.209 %\n",
      "\n",
      "Number of features considered:  70\n",
      "Selective DT Accuracy:  0.8549222797927462\n",
      "Change in DT Accuracy:  0.864 %\n"
     ]
    }
   ],
   "source": [
    "\"\"\"\n",
    "Reassess RF and DT models\n",
    "\"\"\"\n",
    "rf_model_selected = RandomForestClassifier(n_estimators=100)\n",
    "rf_model_selected.fit(X_train_rf_selected, y_train)\n",
    "print(\"Number of features considered: \", rf_model_selected.n_features_)\n",
    "rf_selected_accuracy = rf_model_selected.score(X_test_rf_selected, y_test)\n",
    "print(\"Selective RF Accuracy: \", rf_selected_accuracy)\n",
    "print(\"Change in RF Accuracy: \", round((rf_selected_accuracy - rf_accuracy)*100, 3), '%')\n",
    "print()\n",
    "dt_model_selected = DecisionTreeClassifier()\n",
    "dt_model_selected.fit(X_train_dt_selected, y_train)\n",
    "print(\"Number of features considered: \", dt_model_selected.n_features_)\n",
    "dt_selected_accuracy = dt_model_selected.score(X_test_dt_selected, y_test)\n",
    "print(\"Selective DT Accuracy: \", dt_selected_accuracy)\n",
    "print(\"Change in DT Accuracy: \", round((dt_selected_accuracy - dt_accuracy)*100, 3), '%')"
   ]
  },
  {
   "cell_type": "markdown",
   "metadata": {},
   "source": [
    "We see a moderate increase in accuracy in the decision tree model, with little to no change in accuracy in the random forest model. Our feature selection was, however, much more extreme in the DT case. We will now perform another round of feature selection on the RF model with a larger threshold for feature importance to try and improve the accuracy of our RF model."
   ]
  },
  {
   "cell_type": "code",
   "execution_count": 18,
   "metadata": {},
   "outputs": [
    {
     "name": "stdout",
     "output_type": "stream",
     "text": [
      "Number of features considered:  335\n",
      "Selective RF Accuracy:  0.9723661485319517\n",
      "Change in RF Accuracy:  -0.691 %\n",
      "\n"
     ]
    }
   ],
   "source": [
    "\"\"\"\n",
    "More extreme feature selection on the RF model.\n",
    "\"\"\"\n",
    "rf_threshold = 5e-4\n",
    "rf_feature_selector = SelectFromModel(rf_model, threshold=rf_threshold, prefit=True)\n",
    "X_train_rf_selected = rf_feature_selector.transform(X_train)\n",
    "X_test_rf_selected = rf_feature_selector.transform(X_test)\n",
    "rf_model_selected = RandomForestClassifier(n_estimators=100)\n",
    "rf_model_selected.fit(X_train_rf_selected, y_train)\n",
    "print(\"Number of features considered: \", rf_model_selected.n_features_)\n",
    "rf_selected_accuracy = rf_model_selected.score(X_test_rf_selected, y_test)\n",
    "print(\"Selective RF Accuracy: \", rf_selected_accuracy)\n",
    "print(\"Change in RF Accuracy: \", round((rf_selected_accuracy - rf_accuracy)*100, 3), '%')\n",
    "print()\n"
   ]
  },
  {
   "cell_type": "markdown",
   "metadata": {},
   "source": [
    "After a more extreme feature selection process, accuracy is only marginally increased for the RF model.\n",
    "\n",
    "Next we will take a look at a **Support Vector Classifier**, a **Logistic Regression Classifier**, and a **k-Nearest Neighbors** classifier."
   ]
  },
  {
   "cell_type": "code",
   "execution_count": 19,
   "metadata": {
    "scrolled": true
   },
   "outputs": [
    {
     "name": "stdout",
     "output_type": "stream",
     "text": [
      "SVC Accuracy:  0.9550949913644214\n"
     ]
    }
   ],
   "source": [
    "\"\"\"\n",
    "SVC Model\n",
    "\"\"\"\n",
    "svc_model = SVC(gamma='scale', kernel='linear')\n",
    "svc_model.fit(X_train, y_train)\n",
    "svc_accuracy = svc_model.score(X_test, y_test)\n",
    "print(\"SVC Accuracy: \", svc_accuracy)"
   ]
  },
  {
   "cell_type": "code",
   "execution_count": 20,
   "metadata": {},
   "outputs": [
    {
     "name": "stdout",
     "output_type": "stream",
     "text": [
      "Logistic Regression Accuracy:  0.9637305699481865\n"
     ]
    }
   ],
   "source": [
    "\"\"\"\n",
    "Logistic Regression Model\n",
    "\"\"\"\n",
    "lr_model = LogisticRegression(multi_class='auto', solver='lbfgs', max_iter=10000)\n",
    "lr_model.fit(X_train, y_train)\n",
    "lr_accuracy = lr_model.score(X_test, y_test)\n",
    "print(\"Logistic Regression Accuracy: \", lr_accuracy)"
   ]
  },
  {
   "cell_type": "code",
   "execution_count": 21,
   "metadata": {},
   "outputs": [
    {
     "name": "stdout",
     "output_type": "stream",
     "text": [
      "kNN Accuracy:  0.8272884283246977\n"
     ]
    }
   ],
   "source": [
    "\"\"\"\n",
    "kNN Model\n",
    "\"\"\"\n",
    "knn_model = KNeighborsClassifier()\n",
    "knn_model.fit(X_train, y_train)\n",
    "knn_accuracy = knn_model.score(X_test, y_test)\n",
    "print(\"kNN Accuracy: \", knn_accuracy)"
   ]
  },
  {
   "cell_type": "markdown",
   "metadata": {},
   "source": [
    "We now perform a feature selection on the SVM and LR models in a manner similar to RF and DT, but this time we will let sklearn determine the threshold at which to eliminate features. "
   ]
  },
  {
   "cell_type": "code",
   "execution_count": 22,
   "metadata": {},
   "outputs": [
    {
     "name": "stdout",
     "output_type": "stream",
     "text": [
      "Selective SVC Accuracy:  0.9516407599309153\n",
      "New number of SVC features:  875\n",
      "Change in SVC Accuracy:  -0.345 %\n",
      "\n"
     ]
    }
   ],
   "source": [
    "\"\"\"\n",
    "Feature selection of SVC model.\n",
    "\"\"\"\n",
    "svc_model.fit(X_train, y_train)\n",
    "svc_feature_selector = SelectFromModel(svc_model, prefit=True)\n",
    "X_train_svc_selected = svc_feature_selector.transform(X_train)\n",
    "X_test_svc_selected = svc_feature_selector.transform(X_test)\n",
    "svc_model_selected = SVC(gamma='scale', kernel='linear')\n",
    "svc_model_selected.fit(X_train_svc_selected, y_train)\n",
    "svc_selected_accuracy = svc_model_selected.score(X_test_svc_selected, y_test)\n",
    "print(\"Selective SVC Accuracy: \", svc_selected_accuracy)\n",
    "print(\"New number of SVC features: \", np.shape(X_train_svc_selected)[1])\n",
    "print(\"Change in SVC Accuracy: \", round((svc_selected_accuracy - svc_accuracy)*100, 3), '%')\n",
    "print()"
   ]
  },
  {
   "cell_type": "code",
   "execution_count": 23,
   "metadata": {},
   "outputs": [
    {
     "name": "stdout",
     "output_type": "stream",
     "text": [
      "Selective LR Accuracy:  0.9689119170984456\n",
      "New number of LR features:  835\n",
      "Change in LR Accuracy:  0.518 %\n"
     ]
    }
   ],
   "source": [
    "\"\"\"\n",
    "Feature selection of LR model.\n",
    "\"\"\"\n",
    "lr_feature_selector = SelectFromModel(lr_model, prefit=True)\n",
    "X_train_lr_selected = lr_feature_selector.transform(X_train)\n",
    "X_test_lr_selected = lr_feature_selector.transform(X_test)\n",
    "lr_model_selected = LogisticRegression()#multi_class='auto', solver='lbfgs',max_iter=10000)\n",
    "lr_model_selected.fit(X_train_lr_selected, y_train)\n",
    "lr_selected_accuracy = lr_model_selected.score(X_test_lr_selected, y_test)\n",
    "print(\"Selective LR Accuracy: \", lr_selected_accuracy)\n",
    "print(\"New number of LR features: \", np.shape(X_train_lr_selected)[1])\n",
    "print(\"Change in LR Accuracy: \", round((lr_selected_accuracy - lr_accuracy)*100, 3), '%')\n"
   ]
  },
  {
   "cell_type": "markdown",
   "metadata": {},
   "source": [
    "We see that feature selection results in a marginal increase in accuracy of the support vector classifier and the logistic regression classifier."
   ]
  },
  {
   "cell_type": "markdown",
   "metadata": {},
   "source": [
    "The k-Nearest Neighbors classifier differs from the other considered models in that there is no training portion of the algorithm. Therefore, in order to have a feature importance metric for the kNN classifier, we would need to create models that omit one feature at a time, and compare the performance of these individual models. For this dataset, that would mean implementing 1881 models, which would take entirely too long, as kNN is already a computationally intense algorithm. The following code trains those models, but to run it would take a very long time."
   ]
  },
  {
   "cell_type": "code",
   "execution_count": null,
   "metadata": {},
   "outputs": [],
   "source": [
    "feature_importances = np.zeros(X_train.shape[1], dtype=float)\n",
    "for feature in range(X_train.shape[1]):\n",
    "    X_front = np.atleast_2d(X_train[:, 0:feature])\n",
    "    X_back = np.atleast_2d(X_train[:, feature+1:])\n",
    "    X_train_subset = np.hstack((X_front, X_back))\n",
    "    score = cross_val_score(knn_model, X_train_subset, y_train, cv=5).mean()\n",
    "    feature_importances[feature] = score"
   ]
  },
  {
   "cell_type": "markdown",
   "metadata": {},
   "source": [
    "## Hyperparameter Tuning\n",
    "\n",
    "We preform hyperparameter tuning by running a random hyperparameter search with scikitlearn’s **RandomizedSearchCV** class and running a grid hyperparameter search around the best hyperparameters found in the random search with scikitlearn’s **GridSearchCV**. Each model (except in the case of k-nearest neighbors, where the concept of over-fitting does not apply) includes hyperparameters that penalize over-fitting such as **max_depth** in the RF and DT models. By preforming hyperparameter searches with cross validation, the optimal over-fitting penalizing hyperparameters are found. With these hyperparameters, we ensure that we minimize bias and preserve model accuracy from dataset to dataset."
   ]
  },
  {
   "cell_type": "code",
   "execution_count": null,
   "metadata": {},
   "outputs": [],
   "source": [
    "\"\"\"\n",
    "Random Forest Random Hyperparameter Search\n",
    "\"\"\"\n",
    "#number of trees\n",
    "n_estimators = [int(x) for x in np.linspace(20, 500, 20)]\n",
    "#number of features considered at each split\n",
    "max_features = ['sqrt', 'auto']\n",
    "#maximum tree depth\n",
    "max_depth = [int(x) for x in np.linspace(10, 100, 20)]\n",
    "#minimum number of samples to split a node\n",
    "min_samples_split = [2, 3, 5]\n",
    "#minimum number of samples at each leaf\n",
    "min_samples_leaf = [1, 2, 4]\n",
    "#bootstrap or not\n",
    "bootstrap = [True, False]\n",
    "#number of permutations\n",
    "random_iterations = 25\n",
    "validation_folds = 5\n",
    "rf_hyperparameters =  {'n_estimators' : n_estimators,\n",
    "                       'max_features' : max_features,\n",
    "                       'max_depth' : max_depth,\n",
    "                       'min_samples_split' : min_samples_split,\n",
    "                       'min_samples_leaf' : min_samples_leaf,\n",
    "                       'bootstrap' : bootstrap}\n",
    "random_hyperparameter_search(rf_model_selected, rf_hyperparameters, random_iterations,\n",
    "                             validation_folds, X_train_rf_selected, y_train, X_test_rf_selected, y_test)\n"
   ]
  },
  {
   "cell_type": "code",
   "execution_count": null,
   "metadata": {},
   "outputs": [],
   "source": [
    "\"\"\"\n",
    "Decision Tree Random Hyperparameter Search\n",
    "\"\"\"\n",
    "splitter = ['best', 'random']\n",
    "max_features = ['sqrt', 'log2']\n",
    "max_leaf_nodes = [int(x) for x in np.linspace(10, 500, 10)]\n",
    "min_samples_split = [2, 3, 5]\n",
    "min_samples_leaf = [1, 2, 4]\n",
    "max_depth = [int(x) for x in np.linspace(10, 200, 20)]\n",
    "max_leaf_nodes.append(None)\n",
    "presort = [True, False]\n",
    "random_iterations = 25\n",
    "validation_folds = 5\n",
    "dt_hyperparameters = {'splitter' : splitter,\n",
    "                      'max_features' : max_features,\n",
    "                      'max_depth' : max_depth,\n",
    "                      'max_leaf_nodes' : max_leaf_nodes,\n",
    "                      'presort' : presort,\n",
    "                      'min_samples_split' : min_samples_split,\n",
    "                      'min_samples_leaf' : min_samples_leaf}\n",
    "random_hyperparameter_search(dt_model_selected, dt_hyperparameters, random_iterations,\n",
    "                             validation_folds, X_train_dt_selected, y_train, X_test_dt_selected, y_test)\n"
   ]
  },
  {
   "cell_type": "code",
   "execution_count": null,
   "metadata": {},
   "outputs": [],
   "source": [
    "\"\"\"\n",
    "SVC Random Hyperparameter Search\n",
    "\"\"\"\n",
    "C = [float(x) for x in np.linspace(0.01, 5, 20)]\n",
    "kernel = ['linear', 'rbf', 'sigmoid']\n",
    "gamma = ['auto', 'scale']\n",
    "svc_hyperparameters = {'C' : C,\n",
    "                       'kernel' : kernel,\n",
    "                       'gamma' : gamma}\n",
    "random_hyperparameter_search(svc_model_selected, svc_hyperparameters, random_iterations,\n",
    "                             validation_folds, X_train_svc_selected, y_train, X_test_svc_selected, y_test)\n"
   ]
  },
  {
   "cell_type": "code",
   "execution_count": null,
   "metadata": {},
   "outputs": [],
   "source": [
    "\"\"\"\n",
    "Logistic Regression Random Hyperparameter Search\n",
    "\"\"\"\n",
    "C = [float(x) for x in np.linspace(0.1, 3.0, 20)]\n",
    "fit_intercept = [True, False]\n",
    "max_iter = [int(x) for x in np.linspace(100, 10000, 100)]\n",
    "multi_class = ['ovr']\n",
    "lr_hyperparameters = {'C' : C,\n",
    "                      'fit_intercept' : fit_intercept,\n",
    "                      'max_iter' : max_iter,\n",
    "                      'multi_class' : multi_class}\n",
    "random_hyperparameter_search(lr_model_selected, lr_hyperparameters, random_iterations,\n",
    "                             validation_folds, X_train_lr_selected, y_train, X_test_lr_selected, y_test)\n"
   ]
  },
  {
   "cell_type": "code",
   "execution_count": null,
   "metadata": {},
   "outputs": [],
   "source": [
    "\"\"\"\n",
    "KNN Random Hyperparameter Search\n",
    "\"\"\"\n",
    "n_neighbors = [int(x) for x in np.linspace(1, 10, 10)]\n",
    "weights = ['uniform', 'distance']\n",
    "leaf_size = [int(x) for x in np.linspace(20, 40, 20)]\n",
    "knn_hyperparameters = {'n_neighbors' : n_neighbors,\n",
    "                       'weights' : weights,\n",
    "                       'leaf_size' : leaf_size}\n",
    "random_hyperparameter_search(knn_model, knn_hyperparameters, random_iterations,\n",
    "                             validation_folds, X_train, y_train, X_test, y_test)\n"
   ]
  },
  {
   "cell_type": "code",
   "execution_count": 25,
   "metadata": {},
   "outputs": [
    {
     "name": "stdout",
     "output_type": "stream",
     "text": [
      "Performing Hyperparameter Grid Search with hyperparameters:\n",
      "{'bootstrap': [False],\n",
      " 'max_depth': [35, 36, 37, 38, 39, 40, 42],\n",
      " 'max_features': ['auto'],\n",
      " 'min_samples_leaf': [2],\n",
      " 'min_samples_split': [2],\n",
      " 'n_estimators': [140, 141, 142, 143, 144, 145, 146, 147, 148, 150]}\n",
      "Best hyperparameters:  {'bootstrap': False, 'max_depth': 39, 'max_features': 'auto', 'min_samples_leaf': 2, 'min_samples_split': 2, 'n_estimators': 140}\n",
      "Best hyperparameter accuracy:  0.9689119170984456\n"
     ]
    }
   ],
   "source": [
    "\"\"\"\n",
    "Random Forest Grid Search\n",
    "\n",
    "results of random forest random hyperparameter search:\n",
    "\n",
    "{'n_estimators': 146, \n",
    "'min_samples_split': 2, \n",
    "'min_samples_leaf': 2, \n",
    "'max_features': 'auto', \n",
    "'max_depth': 38, \n",
    "'bootstrap': False}\n",
    "\"\"\"\n",
    "rf_hyperparameters =  {'n_estimators' : [int(x) for x in np.linspace(140, 150, 10)],\n",
    "                       'max_features' : ['auto'],\n",
    "                       'max_depth' : [int(x) for x in np.linspace(35, 42, 7)],\n",
    "                       'min_samples_split' : [2],\n",
    "                       'min_samples_leaf' : [2],\n",
    "                       'bootstrap' : [False]}\n",
    "                       \n",
    "grid_hyperparameter_search(rf_model_selected, rf_hyperparameters,\n",
    "                validation_folds, X_train_rf_selected, y_train, X_test_rf_selected, y_test)"
   ]
  },
  {
   "cell_type": "code",
   "execution_count": 26,
   "metadata": {},
   "outputs": [
    {
     "name": "stdout",
     "output_type": "stream",
     "text": [
      "\n",
      "Random Forest Classifier\n"
     ]
    },
    {
     "data": {
      "image/png": "[encoded data removed]",
      "text/plain": [
       "<Figure size 432x288 with 2 Axes>"
      ]
     },
     "metadata": {
      "needs_background": "light"
     },
     "output_type": "display_data"
    },
    {
     "name": "stdout",
     "output_type": "stream",
     "text": [
      "Random forest accuracy: \n",
      "0.9689119170984456\n",
      "\n",
      "Classification Report: \n",
      "                                   precision    recall  f1-score   support\n",
      "\n",
      "        Breast Invasive Carcinoma       0.99      0.99      0.99       230\n",
      "Kidney Renal Clear Cell Carcinoma       0.99      1.00      1.00       100\n",
      "              Lung Adenocarcinoma       0.91      0.95      0.93       106\n",
      "     Lung Squamous Cell Carcinoma       0.96      0.90      0.93       100\n",
      "        Pancreatic Adenocarcinoma       1.00      0.96      0.98        26\n",
      "                   Uveal Melanoma       1.00      1.00      1.00        17\n",
      "\n",
      "                         accuracy                           0.97       579\n",
      "                        macro avg       0.97      0.97      0.97       579\n",
      "                     weighted avg       0.97      0.97      0.97       579\n",
      "\n"
     ]
    }
   ],
   "source": [
    "\"\"\"\n",
    "Best hyperparameters:  \n",
    "{'bootstrap': False, \n",
    "'max_depth': 36, \n",
    "'max_features': 'auto', \n",
    "'min_samples_leaf': 2, \n",
    "'min_samples_split': 2, \n",
    "'n_estimators': 145}\n",
    "\"\"\"\n",
    "print('')\n",
    "print('Random Forest Classifier')\n",
    "rf_model_selected = RandomForestClassifier(bootstrap = False, \n",
    "                                        max_depth = 36, \n",
    "                                        max_features = 'auto', \n",
    "                                        min_samples_leaf = 2, \n",
    "                                        min_samples_split = 2, \n",
    "                                        n_estimators = 145)\n",
    "rf_model_selected.fit(X_train_rf_selected, y_train)\n",
    "rf_predictions = rf_model_selected.predict(X_test_rf_selected)\n",
    "rf_results = confusion_matrix(y_test, rf_predictions)\n",
    "ax = plt.subplot()\n",
    "sns.heatmap(rf_results, annot=True, ax = ax)\n",
    "ax.set_xlabel('Predicted labels')\n",
    "ax.set_ylabel('True labels') \n",
    "ax.set_title('Random Forest Classifier Confusion Matrix')\n",
    "ax.xaxis.set_ticklabels(['1','2','3','4','5','6'])\n",
    "ax.yaxis.set_ticklabels(['1','2','3','4','5','6'])  \n",
    "plt.show()\n",
    "print('Random forest accuracy: ')\n",
    "print(rf_model_selected.score(X_test_rf_selected, y_test))\n",
    "print('')\n",
    "print('Classification Report: ')\n",
    "print(classification_report(y_test, rf_predictions))"
   ]
  },
  {
   "cell_type": "code",
   "execution_count": 27,
   "metadata": {},
   "outputs": [
    {
     "name": "stdout",
     "output_type": "stream",
     "text": [
      "Performing Hyperparameter Grid Search with hyperparameters:\n",
      "{'max_depth': [125, 126, 127, 128, 129, 130, 131, 132, 133, 135],\n",
      " 'max_features': ['sqrt'],\n",
      " 'max_leaf_nodes': [495, 496, 497, 498, 499, 500, 501, 502, 503, 505],\n",
      " 'min_samples_leaf': [2],\n",
      " 'min_samples_split': [3],\n",
      " 'presort': [False],\n",
      " 'splitter': ['best']}\n",
      "Best hyperparameters:  {'max_depth': 132, 'max_features': 'sqrt', 'max_leaf_nodes': 500, 'min_samples_leaf': 2, 'min_samples_split': 3, 'presort': False, 'splitter': 'best'}\n",
      "Best hyperparameter accuracy:  0.7443868739205527\n"
     ]
    }
   ],
   "source": [
    "\"\"\"\n",
    "Decision Tree Grid Search\n",
    "\n",
    "results of decision tree random hyperparameter search:\n",
    "\n",
    "{'splitter': 'best', \n",
    "'presort': False, \n",
    "'min_samples_split': 3, \n",
    "'min_samples_leaf': 2, \n",
    "'max_leaf_nodes': 500, \n",
    "'max_features': 'sqrt', \n",
    "'max_depth': 130}\n",
    "\"\"\"\n",
    "dt_hyperparameters =  {'splitter' : ['best'],\n",
    "                       'max_features' : ['sqrt'],\n",
    "                       'max_depth' : [int(x) for x in np.linspace(125, 135, 10)],\n",
    "                       'min_samples_split' : [3],\n",
    "                       'min_samples_leaf' : [2],\n",
    "                       'max_leaf_nodes' : [int(x) for x in np.linspace(495, 505, 10)],\n",
    "                       'presort' : [False]}\n",
    "                       \n",
    "grid_hyperparameter_search(dt_model_selected, dt_hyperparameters,\n",
    "                validation_folds, X_train_dt_selected, y_train, X_test_dt_selected, y_test)"
   ]
  },
  {
   "cell_type": "code",
   "execution_count": 28,
   "metadata": {},
   "outputs": [
    {
     "name": "stdout",
     "output_type": "stream",
     "text": [
      "\n",
      "Decision Tree Classifier\n"
     ]
    },
    {
     "data": {
      "image/png": "[encoded data removed]",
      "text/plain": [
       "<Figure size 432x288 with 2 Axes>"
      ]
     },
     "metadata": {
      "needs_background": "light"
     },
     "output_type": "display_data"
    },
    {
     "name": "stdout",
     "output_type": "stream",
     "text": [
      "Decision Tree accuracy: \n",
      "0.8169257340241797\n",
      "\n",
      "Classification Report: \n",
      "                                   precision    recall  f1-score   support\n",
      "\n",
      "        Breast Invasive Carcinoma       0.91      0.81      0.86       230\n",
      "Kidney Renal Clear Cell Carcinoma       0.90      0.97      0.93       100\n",
      "              Lung Adenocarcinoma       0.60      0.75      0.67       106\n",
      "     Lung Squamous Cell Carcinoma       0.89      0.78      0.83       100\n",
      "        Pancreatic Adenocarcinoma       0.68      0.81      0.74        26\n",
      "                   Uveal Melanoma       0.85      0.65      0.73        17\n",
      "\n",
      "                         accuracy                           0.82       579\n",
      "                        macro avg       0.80      0.79      0.79       579\n",
      "                     weighted avg       0.83      0.82      0.82       579\n",
      "\n"
     ]
    }
   ],
   "source": [
    "\"\"\"\n",
    "Best hyperparameters:  \n",
    "{'max_depth': 133, \n",
    "'max_features': 'sqrt', \n",
    "'max_leaf_nodes': 495, \n",
    "'min_samples_leaf': 2, \n",
    "'min_samples_split': 3, \n",
    "'presort': False, \n",
    "'splitter': 'best'}\n",
    "\"\"\"\n",
    "print('')\n",
    "print('Decision Tree Classifier')\n",
    "dt_model_selected = DecisionTreeClassifier(max_depth = 133, \n",
    "                                           max_features = 'sqrt', \n",
    "                                           max_leaf_nodes = 495, \n",
    "                                           min_samples_leaf = 2, \n",
    "                                           min_samples_split = 3, \n",
    "                                           presort = False, \n",
    "                                           splitter = 'best')\n",
    "dt_model_selected.fit(X_train_dt_selected, y_train)\n",
    "dt_predictions = dt_model_selected.predict(X_test_dt_selected)\n",
    "dt_results = confusion_matrix(y_test, dt_predictions)\n",
    "ax = plt.subplot()\n",
    "sns.heatmap(dt_results, annot=True, ax = ax)\n",
    "ax.set_xlabel('Predicted labels')\n",
    "ax.set_ylabel('True labels') \n",
    "ax.set_title('Decision Tree Classifier Confusion Matrix')\n",
    "ax.xaxis.set_ticklabels(['1','2','3','4','5','6'])\n",
    "ax.yaxis.set_ticklabels(['1','2','3','4','5','6'])  \n",
    "plt.show()\n",
    "print('Decision Tree accuracy: ')\n",
    "print(dt_model_selected.score(X_test_dt_selected, y_test))\n",
    "print('')\n",
    "print('Classification Report: ')\n",
    "print(classification_report(y_test, dt_predictions))"
   ]
  },
  {
   "cell_type": "code",
   "execution_count": 29,
   "metadata": {},
   "outputs": [
    {
     "name": "stdout",
     "output_type": "stream",
     "text": [
      "Performing Hyperparameter Grid Search with hyperparameters:\n",
      "{'C': [0.005,\n",
      "       0.0061111111111111106,\n",
      "       0.007222222222222222,\n",
      "       0.008333333333333333,\n",
      "       0.009444444444444443,\n",
      "       0.010555555555555554,\n",
      "       0.011666666666666665,\n",
      "       0.012777777777777777,\n",
      "       0.013888888888888888,\n",
      "       0.015],\n",
      " 'gamma': ['auto'],\n",
      " 'kernel': ['linear']}\n",
      "Best hyperparameters:  {'C': 0.005, 'gamma': 'auto', 'kernel': 'linear'}\n",
      "Best hyperparameter accuracy:  0.9550949913644214\n"
     ]
    }
   ],
   "source": [
    "\"\"\"\n",
    "SVC Grid Hyperparameter Search\n",
    "\n",
    "results of svc random hyperparameter search:\n",
    "\n",
    "{'kernel': 'linear', 'gamma': 'auto', 'C': 0.01}\n",
    "\"\"\"\n",
    "svc_hyperparameters = {'C' : [float(x) for x in np.linspace(0.005, 0.015, 10)],\n",
    "                       'kernel' : ['linear'],\n",
    "                       'gamma' : ['auto']}\n",
    "grid_hyperparameter_search(svc_model_selected, svc_hyperparameters,\n",
    "                             validation_folds, X_train_svc_selected, y_train, X_test_svc_selected, y_test)\n"
   ]
  },
  {
   "cell_type": "code",
   "execution_count": 30,
   "metadata": {},
   "outputs": [
    {
     "name": "stdout",
     "output_type": "stream",
     "text": [
      "\n",
      "Support Vector Classifier\n"
     ]
    },
    {
     "data": {
      "image/png": "[encoded data removed]",
      "text/plain": [
       "<Figure size 432x288 with 2 Axes>"
      ]
     },
     "metadata": {
      "needs_background": "light"
     },
     "output_type": "display_data"
    },
    {
     "name": "stdout",
     "output_type": "stream",
     "text": [
      "Support Vector accuracy: \n",
      "0.9550949913644214\n",
      "\n",
      "Classification Report: \n",
      "                                   precision    recall  f1-score   support\n",
      "\n",
      "        Breast Invasive Carcinoma       1.00      0.97      0.98       230\n",
      "Kidney Renal Clear Cell Carcinoma       1.00      1.00      1.00       100\n",
      "              Lung Adenocarcinoma       0.88      0.93      0.91       106\n",
      "     Lung Squamous Cell Carcinoma       0.89      0.88      0.88       100\n",
      "        Pancreatic Adenocarcinoma       0.96      0.96      0.96        26\n",
      "                   Uveal Melanoma       1.00      1.00      1.00        17\n",
      "\n",
      "                         accuracy                           0.96       579\n",
      "                        macro avg       0.95      0.96      0.96       579\n",
      "                     weighted avg       0.96      0.96      0.96       579\n",
      "\n"
     ]
    }
   ],
   "source": [
    "\"\"\"\n",
    "Best hyperparameters:  \n",
    "{'C': 0.005, \n",
    "'gamma': 'auto', \n",
    "'kernel': 'linear'}\n",
    "\"\"\"\n",
    "print('')\n",
    "print('Support Vector Classifier')\n",
    "svc_model_selected = SVC(C = 0.005, gamma='scale', kernel='linear')\n",
    "svc_model_selected.fit(X_train_svc_selected, y_train)\n",
    "svc_predictions = svc_model_selected.predict(X_test_svc_selected)\n",
    "svc_results = confusion_matrix(y_test, svc_predictions)\n",
    "ax = plt.subplot()\n",
    "sns.heatmap(svc_results, annot=True, ax = ax)\n",
    "ax.set_xlabel('Predicted labels')\n",
    "ax.set_ylabel('True labels') \n",
    "ax.set_title('Support Vector Classifier Confusion Matrix')\n",
    "ax.xaxis.set_ticklabels(['1','2','3','4','5','6'])\n",
    "ax.yaxis.set_ticklabels(['1','2','3','4','5','6'])  \n",
    "plt.show()\n",
    "print('Support Vector accuracy: ')\n",
    "print(svc_model_selected.score(X_test_svc_selected, y_test))\n",
    "print('')\n",
    "print('Classification Report: ')\n",
    "print(classification_report(y_test, svc_predictions))"
   ]
  },
  {
   "cell_type": "code",
   "execution_count": 31,
   "metadata": {},
   "outputs": [
    {
     "name": "stdout",
     "output_type": "stream",
     "text": [
      "Performing Hyperparameter Grid Search with hyperparameters:\n",
      "{'C': [0.2,\n",
      "       0.2111111111111111,\n",
      "       0.22222222222222224,\n",
      "       0.23333333333333334,\n",
      "       0.24444444444444444,\n",
      "       0.25555555555555554,\n",
      "       0.26666666666666666,\n",
      "       0.2777777777777778,\n",
      "       0.28888888888888886,\n",
      "       0.3],\n",
      " 'fit_intercept': [True],\n",
      " 'max_iter': [9000, 9111, 9222, 9333, 9444, 9555, 9666, 9777, 9888, 10000],\n",
      " 'multi_class': ['ovr']}\n",
      "Best hyperparameters:  {'C': 0.24444444444444444, 'fit_intercept': True, 'max_iter': 9000, 'multi_class': 'ovr'}\n",
      "Best hyperparameter accuracy:  0.9689119170984456\n"
     ]
    }
   ],
   "source": [
    "\"\"\"\n",
    "Logistic Regression Grid Hyperparameter Search\n",
    "\n",
    "results of LR random hyperparameter search:\n",
    "\n",
    "{'multi_class': 'ovr',\n",
    "'max_iter': 9400, \n",
    "'fit_intercept': True, \n",
    "'C': 0.25263157894736843}\n",
    "\"\"\"\n",
    "lr_hyperparameters = {'C' : [float(x) for x in np.linspace(0.2, 0.3, 10)],\n",
    "                      'fit_intercept' : [True],\n",
    "                      'max_iter' : [int(x) for x in np.linspace(9000, 10000, 10)],\n",
    "                      'multi_class' : ['ovr']}\n",
    "                             \n",
    "grid_hyperparameter_search(lr_model_selected, lr_hyperparameters,\n",
    "                             validation_folds, X_train_lr_selected, y_train, X_test_lr_selected, y_test)\n"
   ]
  },
  {
   "cell_type": "code",
   "execution_count": 32,
   "metadata": {},
   "outputs": [
    {
     "name": "stdout",
     "output_type": "stream",
     "text": [
      "\n",
      "Support Vector Classifier\n"
     ]
    },
    {
     "data": {
      "image/png": "[encoded data removed]",
      "text/plain": [
       "<Figure size 432x288 with 2 Axes>"
      ]
     },
     "metadata": {
      "needs_background": "light"
     },
     "output_type": "display_data"
    },
    {
     "name": "stdout",
     "output_type": "stream",
     "text": [
      "Multinomial Logistic Regression accuracy: \n",
      "0.9689119170984456\n",
      "\n",
      "Classification Report: \n",
      "                                   precision    recall  f1-score   support\n",
      "\n",
      "        Breast Invasive Carcinoma       1.00      0.98      0.99       230\n",
      "Kidney Renal Clear Cell Carcinoma       0.99      1.00      1.00       100\n",
      "              Lung Adenocarcinoma       0.90      0.95      0.93       106\n",
      "     Lung Squamous Cell Carcinoma       0.94      0.92      0.93       100\n",
      "        Pancreatic Adenocarcinoma       1.00      1.00      1.00        26\n",
      "                   Uveal Melanoma       1.00      1.00      1.00        17\n",
      "\n",
      "                         accuracy                           0.97       579\n",
      "                        macro avg       0.97      0.98      0.97       579\n",
      "                     weighted avg       0.97      0.97      0.97       579\n",
      "\n"
     ]
    }
   ],
   "source": [
    "\"\"\"\n",
    "Best hyperparameters:  \n",
    "{'C': 0.24444444444444444, \n",
    "'fit_intercept': True, \n",
    "'max_iter': 9000, \n",
    "'multi_class': 'ovr'}\n",
    "\"\"\"\n",
    "print('')\n",
    "print('Support Vector Classifier')\n",
    "lr_model_selected = LogisticRegression(C = 0.24444444444444444, \n",
    "                                       fit_intercept = True, \n",
    "                                       max_iter = 9000, \n",
    "                                       multi_class = 'ovr')\n",
    "lr_model_selected.fit(X_train_lr_selected, y_train)\n",
    "lr_predictions = lr_model_selected.predict(X_test_lr_selected)\n",
    "lr_results = confusion_matrix(y_test, lr_predictions)\n",
    "ax = plt.subplot()\n",
    "sns.heatmap(lr_results, annot=True, ax = ax)\n",
    "ax.set_xlabel('Predicted labels')\n",
    "ax.set_ylabel('True labels') \n",
    "ax.set_title('Multinomial Logistic Regression Classifier Confusion Matrix')\n",
    "ax.xaxis.set_ticklabels(['1','2','3','4','5','6'])\n",
    "ax.yaxis.set_ticklabels(['1','2','3','4','5','6'])  \n",
    "plt.show()\n",
    "print('Multinomial Logistic Regression accuracy: ')\n",
    "print(lr_model_selected.score(X_test_lr_selected, y_test))\n",
    "print('')\n",
    "print('Classification Report: ')\n",
    "print(classification_report(y_test, lr_predictions))"
   ]
  },
  {
   "cell_type": "code",
   "execution_count": 33,
   "metadata": {},
   "outputs": [
    {
     "name": "stdout",
     "output_type": "stream",
     "text": [
      "Performing Hyperparameter Grid Search with hyperparameters:\n",
      "{'leaf_size': [32, 33, 34, 35, 36, 37],\n",
      " 'n_neighbors': [2, 3, 4, 5, 6, 7, 8],\n",
      " 'weights': ['distance']}\n",
      "Best hyperparameters:  {'leaf_size': 32, 'n_neighbors': 7, 'weights': 'distance'}\n",
      "Best hyperparameter accuracy:  0.8324697754749568\n"
     ]
    }
   ],
   "source": [
    "\"\"\"\n",
    "KNN Grid Hyperparameter Search\n",
    "\n",
    "results of random hyperparameter search (KNN):\n",
    "\n",
    "{'weights': 'distance', 'n_neighbors': 7, 'leaf_size': 35}\n",
    "\"\"\"\n",
    "\n",
    "knn_hyperparameters = {'n_neighbors' : [int(x) for x in np.linspace(2, 8, 7)],\n",
    "                       'weights' : ['distance'],\n",
    "                       'leaf_size' : [int(x) for x in np.linspace(32, 37, 6)]}\n",
    "validation_folds = 5\n",
    "grid_hyperparameter_search(knn_model, knn_hyperparameters,\n",
    "                             validation_folds, X_train, y_train, X_test, y_test)\n"
   ]
  },
  {
   "cell_type": "code",
   "execution_count": 34,
   "metadata": {},
   "outputs": [
    {
     "name": "stdout",
     "output_type": "stream",
     "text": [
      "\n",
      "k-Nearest Neighbor Classifier\n"
     ]
    },
    {
     "data": {
      "image/png": "[encoded data removed]",
      "text/plain": [
       "<Figure size 432x288 with 2 Axes>"
      ]
     },
     "metadata": {
      "needs_background": "light"
     },
     "output_type": "display_data"
    },
    {
     "name": "stdout",
     "output_type": "stream",
     "text": [
      "k-Nearest Neighbor accuracy: \n",
      "0.8324697754749568\n",
      "\n",
      "Classification Report: \n",
      "                                   precision    recall  f1-score   support\n",
      "\n",
      "        Breast Invasive Carcinoma       0.82      0.93      0.87       230\n",
      "Kidney Renal Clear Cell Carcinoma       0.99      0.98      0.98       100\n",
      "              Lung Adenocarcinoma       0.76      0.58      0.66       106\n",
      "     Lung Squamous Cell Carcinoma       0.87      0.68      0.76       100\n",
      "        Pancreatic Adenocarcinoma       0.57      1.00      0.72        26\n",
      "                   Uveal Melanoma       1.00      0.94      0.97        17\n",
      "\n",
      "                         accuracy                           0.83       579\n",
      "                        macro avg       0.83      0.85      0.83       579\n",
      "                     weighted avg       0.84      0.83      0.83       579\n",
      "\n"
     ]
    }
   ],
   "source": [
    "\"\"\"\n",
    "Best hyperparameters:  \n",
    "{'leaf_size': 32, \n",
    "'n_neighbors': 7, \n",
    "'weights': 'distance'}\n",
    "\"\"\"\n",
    "print()\n",
    "print('k-Nearest Neighbor Classifier')\n",
    "knn_model = KNeighborsClassifier(leaf_size = 32, \n",
    "                                 n_neighbors = 7, \n",
    "                                 weights = 'distance')\n",
    "knn_model.fit(X_train, y_train)\n",
    "knn_predictions = knn_model.predict(X_test)\n",
    "knn_results = confusion_matrix(y_test, knn_predictions)\n",
    "ax = plt.subplot()\n",
    "sns.heatmap(knn_results, annot=True, ax = ax)\n",
    "ax.set_xlabel('Predicted labels')\n",
    "ax.set_ylabel('True labels') \n",
    "ax.set_title('k-Nearest Neighbor Classifier Confusion Matrix')\n",
    "ax.xaxis.set_ticklabels(['1','2','3','4','5','6'])\n",
    "ax.yaxis.set_ticklabels(['1','2','3','4','5','6'])  \n",
    "plt.show()\n",
    "print('k-Nearest Neighbor accuracy: ')\n",
    "print(knn_model.score(X_test, y_test))\n",
    "print()\n",
    "print('Classification Report: ')\n",
    "print(classification_report(y_test, knn_predictions))"
   ]
  },
  {
   "cell_type": "markdown",
   "metadata": {},
   "source": [
    "## Model Stacking\n",
    "\n",
    "We implement a sixth model with the ensemble method of stacking. With model stacking, each of our individual models is trained independently, and their predictions are then used as features to train a meta-classifier. The meta-classifier then makes the final prediction. We implement two stacked classifiers: one comprised of all our previous\n",
    "3 models, and one with the top three performers. In both models, we find the Multinomial Logistic Regression Classifier to perform best as our meta-classifier."
   ]
  },
  {
   "cell_type": "code",
   "execution_count": 38,
   "metadata": {},
   "outputs": [
    {
     "name": "stdout",
     "output_type": "stream",
     "text": [
      "Accuracy of Stacked Classifier:  0.9688958077992906\n"
     ]
    }
   ],
   "source": [
    "\"\"\"\n",
    "Stacked Classifier Assembly\n",
    "\n",
    "model_parameters are the best performing parameters from the grid hyperparameter search.\n",
    "\n",
    "We choose the logistic regression classifier as our 'meta classifier'.\n",
    "\"\"\"\n",
    "random_forest = RandomForestClassifier(bootstrap= False, \n",
    "                                         max_depth= 36, \n",
    "                                         max_features= 'auto', \n",
    "                                         min_samples_leaf= 2, \n",
    "                                         min_samples_split= 2, \n",
    "                                         n_estimators= 145)\n",
    "\n",
    "decision_tree = DecisionTreeClassifier(max_depth= 133, \n",
    "                                     max_features= 'sqrt', \n",
    "                                     max_leaf_nodes= 495, \n",
    "                                     min_samples_leaf= 2, \n",
    "                                     min_samples_split= 3, \n",
    "                                     presort= False, \n",
    "                                     splitter= 'best')\n",
    "\n",
    "svc = SVC(C= 0.005, gamma= 'auto', kernel= 'linear')\n",
    "\n",
    "logistic_regression = LogisticRegression(C= 0.24444444444444444,\n",
    "                 fit_intercept= True,\n",
    "                 max_iter= 9000,\n",
    "                 multi_class= 'ovr')\n",
    "\n",
    "\n",
    "knn = KNeighborsClassifier(leaf_size= 32, \n",
    "                  n_neighbors= 7, \n",
    "                  weights= 'distance')\n",
    "\n",
    "meta_classifier = LogisticRegression(multi_class='auto', solver='lbfgs', max_iter=10000)\n",
    "\n",
    "#StackingCVClassifier will not take string labels\n",
    "label_map = {'Breast Invasive Carcinoma' : 0,\n",
    "             'Kidney Renal Clear Cell Carcinoma' : 1,\n",
    "             'Lung Adenocarcinoma' : 2, \n",
    "             'Lung Squamous Cell Carcinoma' : 3,\n",
    "             'Pancreatic Adenocarcinoma' : 4,\n",
    "             'Uveal Melanoma' : 5}\n",
    "\n",
    "y_ints = np.zeros(len(y_train))\n",
    "for label in range(len(y_train)):\n",
    "    for key in label_map.keys():\n",
    "        if y_train[label] == key:\n",
    "            y_ints[label] = label_map[key]\n",
    "            break\n",
    "                \n",
    "stacked_classifier = StackingCVClassifier(classifiers=[random_forest,\n",
    "                                                       decision_tree,\n",
    "                                                       svc,\n",
    "                                                       logistic_regression,\n",
    "                                                       knn], \n",
    "                                                       meta_classifier=meta_classifier)\n",
    "\n",
    "stacked_score = np.mean(cross_val_score(stacked_classifier, X_train, y_ints, \n",
    "                                              cv=5, scoring='accuracy'))\n",
    "\n",
    "print(\"Accuracy of Stacked Classifier: \", stacked_score)"
   ]
  },
  {
   "cell_type": "code",
   "execution_count": 39,
   "metadata": {},
   "outputs": [
    {
     "name": "stdout",
     "output_type": "stream",
     "text": [
      "Accuracy of Selective Stacked Classifier:  0.9688883521121177\n"
     ]
    }
   ],
   "source": [
    "\"\"\"\n",
    "Stacked Classifier of only highest performing models (RF, SVC, LR).\n",
    "\"\"\"\n",
    "stacked_classifier_selective = StackingCVClassifier(classifiers=[random_forest,\n",
    "                                                    svc,\n",
    "                                                    logistic_regression], \n",
    "                                                    meta_classifier=meta_classifier)\n",
    "stacked_score_selective = np.mean(cross_val_score(stacked_classifier_selective,\n",
    "                                                                  X_train, y_ints, cv=5, scoring='accuracy'))\n",
    "\n",
    "print(\"Accuracy of Selective Stacked Classifier: \", stacked_score_selective)"
   ]
  },
  {
   "cell_type": "markdown",
   "metadata": {
    "collapsed": true
   },
   "source": [
    "## Conclusions\n",
    "\n",
    "Through a scoring metric based on precision, recall, and f-1 score, we determine that our **Random Forest Classifier model preforms the best**, with all three of these values peaking at 98%. \n",
    "\n",
    "The random forest classification report shows perfect classification of breast invasive carcinoma, kidney renal clear cell carcinoma, pancreatic adenocarcinoma, and uveal melanoma, while the model classifies lung adenocarcinoma and lung squamous cell carcinoma with over 90% accuracy. The logistic regression classification report shows perfect classification of breast invasive carcinoma, kidney renal clear cell carcinoma, and uveal melanoma with over 95% accuracy for lung adenocarcinoma, lung squamous cell carcinoma, and pancreatic adenocarcinoma.\n",
    "\n",
    "All of our models classify uveal melanoma with 100% accuracy. For kidney renal clear cell carcinoma our Random Forest, Decision Tree, and Logistic Regression models classify with 100% accuracy, while our k-Nearest Neighbor model performs with 99% accuracy. For all models, lung adenocarcinoma is classified with the worst accuracy when compared with other cancer types.\n",
    "\n",
    "Given how different models are better classifiers of different cancer types, our stacked classifier seems to be a reliable classifier boasting 96.9% accuracy even when including the less reliable k-Nearest Neighbor classifier. However, the Random Forest Classifier alone produces higher accuracy."
   ]
  },
  {
   "cell_type": "code",
   "execution_count": null,
   "metadata": {},
   "outputs": [],
   "source": []
  }
 ],
 "metadata": {
  "kernelspec": {
   "display_name": "Python 3",
   "language": "python",
   "name": "python3"
  },
  "language_info": {
   "codemirror_mode": {
    "name": "ipython",
    "version": 3
   },
   "file_extension": ".py",
   "mimetype": "text/x-python",
   "name": "python",
   "nbconvert_exporter": "python",
   "pygments_lexer": "ipython3",
   "version": "3.7.4"
  }
 },
 "nbformat": 4,
 "nbformat_minor": 2
}
